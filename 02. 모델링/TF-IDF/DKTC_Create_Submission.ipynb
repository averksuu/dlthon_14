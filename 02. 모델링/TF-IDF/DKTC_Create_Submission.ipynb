{
 "cells": [
  {
   "cell_type": "markdown",
   "metadata": {},
   "source": [
    "# DKTC 최종 제출 파일 생성"
   ]
  },
  {
   "cell_type": "markdown",
   "metadata": {},
   "source": [
    "## 1. 전체 데이터로 모델 재학습 및 예측"
   ]
  },
  {
   "cell_type": "code",
   "execution_count": null,
   "metadata": {},
   "outputs": [],
   "source": [
    "import pandas as pd\n",
    "from sklearn.model_selection import train_test_split\n",
    "from sklearn.preprocessing import LabelEncoder\n",
    "\n",
    "# 데이터 로드\n",
    "train_df = pd.read_csv('../../data/train.csv')\n",
    "general_df = pd.read_csv('../../data/train_general_conversation.csv')\n",
    "test_df = pd.read_csv('../../data/test.csv')\n",
    "submission_df = pd.read_csv('../../data/submission.csv')\n",
    "\n",
    "# 전체 학습 데이터 합치기\n",
    "df_full_train = pd.concat([train_df, general_df], ignore_index=True)\n",
    "\n",
    "# 클래스 인덱스 정보\n",
    "class_mapping = {\n",
    "    '협박 대화': 0,\n",
    "    '갈취 대화': 1,\n",
    "    '직장 내 괴롭힘 대화': 2,\n",
    "    '기타 괴롭힘 대화': 3,\n",
    "    '일반 대화': 4\n",
    "}\n",
    "\n",
    "# 클래스 매핑\n",
    "df_full_train['class'] = df_full_train['class'].map(class_mapping)"
   ]
  },
  {
   "cell_type": "code",
   "execution_count": 15,
   "metadata": {},
   "outputs": [
    {
     "name": "stdout",
     "output_type": "stream",
     "text": [
      "TF-IDF 벡터화 진행 중... (전체 학습 데이터 사용)\n"
     ]
    },
    {
     "name": "stderr",
     "output_type": "stream",
     "text": [
      "/Users/bychoi/miniforge3/envs/my-pytorch/lib/python3.12/site-packages/sklearn/feature_extraction/text.py:517: UserWarning: The parameter 'token_pattern' will not be used since 'tokenizer' is not None'\n",
      "  warnings.warn(\n"
     ]
    },
    {
     "name": "stdout",
     "output_type": "stream",
     "text": [
      "벡터화 완료!\n"
     ]
    }
   ],
   "source": [
    "from sklearn.feature_extraction.text import TfidfVectorizer\n",
    "from mecab_ko import Tagger\n",
    "\n",
    "# Tokenizer 정의\n",
    "mecab_tagger = Tagger()\n",
    "def mecab_tokenizer(text):\n",
    "    parsed = mecab_tagger.parse(text)\n",
    "    return [line.split('\\t')[0] for line in parsed.split('\\n') if '\\t' in line]\n",
    "\n",
    "# TF-IDF 벡터화 (1,3-gram)\n",
    "print(\"TF-IDF 벡터화 진행 중... (전체 학습 데이터 사용)\")\n",
    "tfidf_vectorizer = TfidfVectorizer(tokenizer=mecab_tokenizer, ngram_range=(1, 3), min_df=3, max_df=0.9)\n",
    "\n",
    "# 전체 학습 데이터로 TF-IDF 학습\n",
    "X_full_train_tfidf = tfidf_vectorizer.fit_transform(df_full_train['conversation'])\n",
    "\n",
    "# 테스트 데이터 변환\n",
    "X_test_tfidf = tfidf_vectorizer.transform(test_df['text'])\n",
    "\n",
    "print(\"벡터화 완료!\")"
   ]
  },
  {
   "cell_type": "code",
   "execution_count": 16,
   "metadata": {},
   "outputs": [
    {
     "name": "stdout",
     "output_type": "stream",
     "text": [
      "최종 모델 학습 중...\n"
     ]
    },
    {
     "name": "stdout",
     "output_type": "stream",
     "text": [
      "모델 학습 완료!\n",
      "테스트 데이터 예측 중...\n",
      "예측 완료!\n"
     ]
    }
   ],
   "source": [
    "from sklearn.linear_model import LogisticRegression\n",
    "\n",
    "# 로지스틱 회귀 모델 학습\n",
    "print(\"최종 모델 학습 중...\")\n",
    "lr_model = LogisticRegression(random_state=42, max_iter=1000)\n",
    "lr_model.fit(X_full_train_tfidf, df_full_train['class'])\n",
    "print(\"모델 학습 완료!\")\n",
    "\n",
    "# 테스트 데이터 예측\n",
    "print(\"테스트 데이터 예측 중...\")\n",
    "test_predictions = lr_model.predict(X_test_tfidf)\n",
    "\n",
    "print(\"예측 완료!\")"
   ]
  },
  {
   "cell_type": "markdown",
   "metadata": {},
   "source": [
    "## 2. 제출 파일 생성"
   ]
  },
  {
   "cell_type": "code",
   "execution_count": 17,
   "metadata": {},
   "outputs": [
    {
     "data": {
      "text/html": [
       "<div>\n",
       "<style scoped>\n",
       "    .dataframe tbody tr th:only-of-type {\n",
       "        vertical-align: middle;\n",
       "    }\n",
       "\n",
       "    .dataframe tbody tr th {\n",
       "        vertical-align: top;\n",
       "    }\n",
       "\n",
       "    .dataframe thead th {\n",
       "        text-align: right;\n",
       "    }\n",
       "</style>\n",
       "<table border=\"1\" class=\"dataframe\">\n",
       "  <thead>\n",
       "    <tr style=\"text-align: right;\">\n",
       "      <th></th>\n",
       "      <th>idx</th>\n",
       "      <th>class</th>\n",
       "    </tr>\n",
       "  </thead>\n",
       "  <tbody>\n",
       "    <tr>\n",
       "      <th>0</th>\n",
       "      <td>t_000</td>\n",
       "      <td>1</td>\n",
       "    </tr>\n",
       "    <tr>\n",
       "      <th>1</th>\n",
       "      <td>t_001</td>\n",
       "      <td>2</td>\n",
       "    </tr>\n",
       "    <tr>\n",
       "      <th>2</th>\n",
       "      <td>t_002</td>\n",
       "      <td>2</td>\n",
       "    </tr>\n",
       "    <tr>\n",
       "      <th>3</th>\n",
       "      <td>t_003</td>\n",
       "      <td>3</td>\n",
       "    </tr>\n",
       "    <tr>\n",
       "      <th>4</th>\n",
       "      <td>t_004</td>\n",
       "      <td>3</td>\n",
       "    </tr>\n",
       "  </tbody>\n",
       "</table>\n",
       "</div>"
      ],
      "text/plain": [
       "     idx  class\n",
       "0  t_000      1\n",
       "1  t_001      2\n",
       "2  t_002      2\n",
       "3  t_003      3\n",
       "4  t_004      3"
      ]
     },
     "metadata": {},
     "output_type": "display_data"
    },
    {
     "name": "stdout",
     "output_type": "stream",
     "text": [
      "submission_numeric.csv 파일이 성공적으로 생성되었습니다.\n"
     ]
    }
   ],
   "source": [
    "# ## 2. 제출 파일 생성 (수정된 형식)\n",
    "\n",
    "# 새로운 데이터프레임 생성\n",
    "submission_final = pd.DataFrame()\n",
    "\n",
    "# test.csv의 'idx' 컬럼을 사용\n",
    "submission_final['idx'] = test_df['idx']\n",
    "\n",
    "# 클래스 이름이 아닌, 예측된 숫자 라벨을 그대로 사용\n",
    "submission_final['class'] = test_predictions\n",
    "\n",
    "# 결과 확인\n",
    "display(submission_final.head())\n",
    "\n",
    "# 새 파일로 저장\n",
    "submission_final.to_csv('submission.csv', index=False)\n",
    "\n",
    "print(\"submission_numeric.csv 파일이 성공적으로 생성되었습니다.\")"
   ]
  }
 ],
 "metadata": {
  "kernelspec": {
   "display_name": "my-pytorch",
   "language": "python",
   "name": "python3"
  },
  "language_info": {
   "codemirror_mode": {
    "name": "ipython",
    "version": 3
   },
   "file_extension": ".py",
   "mimetype": "text/x-python",
   "name": "python",
   "nbconvert_exporter": "python",
   "pygments_lexer": "ipython3",
   "version": "3.12.11"
  }
 },
 "nbformat": 4,
 "nbformat_minor": 4
}
