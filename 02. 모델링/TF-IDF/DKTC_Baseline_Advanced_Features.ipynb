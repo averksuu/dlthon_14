{
 "cells": [
  {
   "cell_type": "markdown",
   "metadata": {},
   "source": [
    "# DKTC Baseline 모델링 (TF-IDF + Topic Features)"
   ]
  },
  {
   "cell_type": "markdown",
   "metadata": {},
   "source": [
    "## 1. 데이터 준비"
   ]
  },
  {
   "cell_type": "code",
   "execution_count": null,
   "metadata": {},
   "outputs": [
    {
     "name": "stdout",
     "output_type": "stream",
     "text": [
      "Train data size: 3960\n",
      "Validation data size: 990\n"
     ]
    }
   ],
   "source": [
    "import pandas as pd\n",
    "from sklearn.model_selection import train_test_split\n",
    "from sklearn.preprocessing import LabelEncoder\n",
    "\n",
    "# 데이터 로드\n",
    "train_df = pd.read_csv('../../data/train.csv')\n",
    "general_df = pd.read_csv('../../data/train_general_conversation.csv')\n",
    "\n",
    "# 데이터 합치기\n",
    "df = pd.concat([train_df, general_df], ignore_index=True)\n",
    "\n",
    "# 클래스 라벨 인코딩\n",
    "encoder = LabelEncoder()\n",
    "df['encoded_class'] = encoder.fit_transform(df['class'])\n",
    "\n",
    "# 훈련/검증 데이터 분리\n",
    "X_train, X_val, y_train, y_val = train_test_split(\n",
    "    df['conversation'], \n",
    "    df['encoded_class'], \n",
    "    test_size=0.2, \n",
    "    random_state=42,\n",
    "    stratify=df['encoded_class']\n",
    ")\n",
    "\n",
    "print(f'Train data size: {len(X_train)}')\n",
    "print(f'Validation data size: {len(X_val)}')"
   ]
  },
  {
   "cell_type": "markdown",
   "metadata": {},
   "source": [
    "## 2. 특징 추출 (TF-IDF + Topic Modeling)"
   ]
  },
  {
   "cell_type": "code",
   "execution_count": 5,
   "metadata": {},
   "outputs": [
    {
     "name": "stdout",
     "output_type": "stream",
     "text": [
      "TF-IDF 벡터화 진행 중...\n"
     ]
    },
    {
     "name": "stderr",
     "output_type": "stream",
     "text": [
      "/Users/bychoi/miniforge3/envs/my-pytorch/lib/python3.12/site-packages/sklearn/feature_extraction/text.py:517: UserWarning: The parameter 'token_pattern' will not be used since 'tokenizer' is not None'\n",
      "  warnings.warn(\n"
     ]
    },
    {
     "name": "stdout",
     "output_type": "stream",
     "text": [
      "토픽 모델링(LDA) 특징 추출 중...\n",
      "TF-IDF 특징과 토픽 모델링 특징을 합치는 중...\n",
      "특징 추출 완료!\n"
     ]
    }
   ],
   "source": [
    "from sklearn.feature_extraction.text import TfidfVectorizer, CountVectorizer\n",
    "from sklearn.decomposition import LatentDirichletAllocation\n",
    "from mecab_ko import Tagger\n",
    "from scipy.sparse import hstack\n",
    "import numpy as np\n",
    "\n",
    "# Tokenizer 정의\n",
    "mecab_tagger = Tagger()\n",
    "def mecab_tokenizer(text):\n",
    "    parsed = mecab_tagger.parse(text)\n",
    "    return [line.split('\\t')[0] for line in parsed.split('\\n') if '\\t' in line]\n",
    "\n",
    "# TF-IDF 벡터화\n",
    "print(\"TF-IDF 벡터화 진행 중...\")\n",
    "tfidf_vectorizer = TfidfVectorizer(tokenizer=mecab_tokenizer, ngram_range=(1, 3), min_df=3, max_df=0.9)\n",
    "X_train_tfidf = tfidf_vectorizer.fit_transform(X_train)\n",
    "X_val_tfidf = tfidf_vectorizer.transform(X_val)\n",
    "\n",
    "# LDA 특징 추출\n",
    "print(\"토픽 모델링(LDA) 특징 추출 중...\")\n",
    "def extract_nouns(text):\n",
    "    nouns = []\n",
    "    parsed = mecab_tagger.parse(text)\n",
    "    lines = parsed.split('\\n')\n",
    "    for line in lines:\n",
    "        if '\\t' in line:\n",
    "            parts = line.split('\\t')\n",
    "            pos = parts[1].split(',')[0]\n",
    "            if pos.startswith('N'):\n",
    "                nouns.append(parts[0])\n",
    "    return ' '.join(nouns)\n",
    "\n",
    "noun_list_train = X_train.apply(extract_nouns)\n",
    "vectorizer_lda = CountVectorizer(max_df=0.9, min_df=2, stop_words=['입니다', '있습니다', '그냥', '정말', '진짜'])\n",
    "dtm = vectorizer_lda.fit_transform(noun_list_train)\n",
    "\n",
    "lda = LatentDirichletAllocation(n_components=5, random_state=42)\n",
    "lda.fit(dtm)\n",
    "\n",
    "X_train_topics = lda.transform(dtm)\n",
    "X_val_topics = lda.transform(vectorizer_lda.transform(X_val.apply(extract_nouns)))\n",
    "\n",
    "# 특징 합치기\n",
    "print(\"TF-IDF 특징과 토픽 모델링 특징을 합치는 중...\")\n",
    "X_train_combined = hstack([X_train_tfidf, X_train_topics])\n",
    "X_val_combined = hstack([X_val_tfidf, X_val_topics])\n",
    "print(\"특징 추출 완료!\")"
   ]
  },
  {
   "cell_type": "markdown",
   "metadata": {},
   "source": [
    "## 3. 로지스틱 회귀 모델 학습 및 평가"
   ]
  },
  {
   "cell_type": "code",
   "execution_count": 6,
   "metadata": {},
   "outputs": [
    {
     "name": "stdout",
     "output_type": "stream",
     "text": [
      "\n",
      "Weighted F1 Score (TF-IDF + Topics): 0.9017\n",
      "Classification Report:\n",
      "              precision    recall  f1-score   support\n",
      "\n",
      "       갈취 대화       0.91      0.84      0.87       196\n",
      "   기타 괴롭힘 대화       0.87      0.89      0.88       219\n",
      "       일반 대화       1.00      1.00      1.00       200\n",
      " 직장 내 괴롭힘 대화       0.87      0.94      0.90       196\n",
      "       협박 대화       0.86      0.84      0.85       179\n",
      "\n",
      "    accuracy                           0.90       990\n",
      "   macro avg       0.90      0.90      0.90       990\n",
      "weighted avg       0.90      0.90      0.90       990\n",
      "\n"
     ]
    }
   ],
   "source": [
    "from sklearn.linear_model import LogisticRegression\n",
    "from sklearn.metrics import f1_score, classification_report\n",
    "\n",
    "# 모델 초기화 및 학습\n",
    "lr_model = LogisticRegression(random_state=42, max_iter=1000)\n",
    "lr_model.fit(X_train_combined, y_train)\n",
    "\n",
    "# 예측\n",
    "y_pred = lr_model.predict(X_val_combined)\n",
    "\n",
    "# 평가\n",
    "weighted_f1 = f1_score(y_val, y_pred, average='weighted')\n",
    "print(f'\\nWeighted F1 Score (TF-IDF + Topics): {weighted_f1:.4f}')\n",
    "\n",
    "print(\"Classification Report:\")\n",
    "print(classification_report(y_val, y_pred, target_names=encoder.classes_))"
   ]
  }
 ],
 "metadata": {
  "kernelspec": {
   "display_name": "my-pytorch",
   "language": "python",
   "name": "python3"
  },
  "language_info": {
   "codemirror_mode": {
    "name": "ipython",
    "version": 3
   },
   "file_extension": ".py",
   "mimetype": "text/x-python",
   "name": "python",
   "nbconvert_exporter": "python",
   "pygments_lexer": "ipython3",
   "version": "3.12.11"
  }
 },
 "nbformat": 4,
 "nbformat_minor": 4
}
