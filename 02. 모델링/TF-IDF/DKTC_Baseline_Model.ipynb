{
 "cells": [
  {
   "cell_type": "markdown",
   "metadata": {},
   "source": [
    "# DKTC Baseline 모델링 (TF-IDF + Logistic Regression)"
   ]
  },
  {
   "cell_type": "markdown",
   "metadata": {},
   "source": [
    "## 1. 데이터 준비"
   ]
  },
  {
   "cell_type": "code",
   "execution_count": null,
   "metadata": {},
   "outputs": [
    {
     "name": "stdout",
     "output_type": "stream",
     "text": [
      "Train data size: 3960\n",
      "Validation data size: 990\n"
     ]
    }
   ],
   "source": [
    "import pandas as pd\n",
    "from sklearn.model_selection import train_test_split\n",
    "from sklearn.preprocessing import LabelEncoder\n",
    "\n",
    "# 데이터 로드\n",
    "train_df = pd.read_csv('../../data/train.csv')\n",
    "general_df = pd.read_csv('../../data/train_general_conversation.csv')\n",
    "\n",
    "# 데이터 합치기\n",
    "df = pd.concat([train_df, general_df], ignore_index=True)\n",
    "\n",
    "# 클래스 라벨 인코딩\n",
    "encoder = LabelEncoder()\n",
    "df['encoded_class'] = encoder.fit_transform(df['class'])\n",
    "\n",
    "# 훈련/검증 데이터 분리\n",
    "X_train, X_val, y_train, y_val = train_test_split(\n",
    "    df['conversation'], \n",
    "    df['encoded_class'], \n",
    "    test_size=0.2, \n",
    "    random_state=42,\n",
    "    stratify=df['encoded_class']\n",
    ")\n",
    "\n",
    "print(f'Train data size: {len(X_train)}')\n",
    "print(f'Validation data size: {len(X_val)}')"
   ]
  },
  {
   "cell_type": "markdown",
   "metadata": {},
   "source": [
    "## 2. TF-IDF 벡터화 (with N-grams)"
   ]
  },
  {
   "cell_type": "code",
   "execution_count": null,
   "metadata": {},
   "outputs": [
    {
     "name": "stderr",
     "output_type": "stream",
     "text": [
      "/Users/bychoi/miniforge3/envs/my-pytorch/lib/python3.12/site-packages/sklearn/feature_extraction/text.py:517: UserWarning: The parameter 'token_pattern' will not be used since 'tokenizer' is not None'\n",
      "  warnings.warn(\n"
     ]
    },
    {
     "name": "stdout",
     "output_type": "stream",
     "text": [
      "Vocabulary size: 39823\n",
      "Train TF-IDF matrix shape: (3960, 39823)\n"
     ]
    }
   ],
   "source": [
    "# mecab_ko.Tagger를 사용한 토크나이저 함수 (오류 수정)\n",
    "mecab_tagger = Tagger()\n",
    "def mecab_tokenizer(text):\n",
    "    morphs = []\n",
    "    parsed = mecab_tagger.parse(text)\n",
    "    lines = parsed.split('\\n')\n",
    "    for line in lines:\n",
    "        if '\\t' in line:\n",
    "            parts = line.split('\\t')\n",
    "            morphs.append(parts[0])\n",
    "    return morphs\n",
    "\n",
    "# TF-IDF Vectorizer 초기화 (1-gram 및 2-gram 사용)\n",
    "tfidf_vectorizer = TfidfVectorizer(tokenizer=mecab_tokenizer, ngram_range=(1, 3), min_df=3,\n",
    "max_df=0.9)\n",
    "\n",
    "# 훈련 데이터에 대해 TF-IDF 학습 및 변환\n",
    "X_train_tfidf = tfidf_vectorizer.fit_transform(X_train)\n",
    "\n",
    "# 검증 데이터에 대해 TF-IDF 변환\n",
    "X_val_tfidf = tfidf_vectorizer.transform(X_val)\n",
    "\n",
    "print(f'Vocabulary size: {len(tfidf_vectorizer.vocabulary_)}')\n",
    "print(f'Train TF-IDF matrix shape: {X_train_tfidf.shape}')"
   ]
  },
  {
   "cell_type": "markdown",
   "metadata": {},
   "source": [
    "## 3. 로지스틱 회귀 모델 학습 및 평가"
   ]
  },
  {
   "cell_type": "code",
   "execution_count": 3,
   "metadata": {},
   "outputs": [
    {
     "name": "stdout",
     "output_type": "stream",
     "text": [
      "Weighted F1 Score: 0.9138\n",
      "Classification Report:\n",
      "              precision    recall  f1-score   support\n",
      "\n",
      "       갈취 대화       0.92      0.84      0.88       196\n",
      "   기타 괴롭힘 대화       0.89      0.89      0.89       219\n",
      "       일반 대화       1.00      1.00      1.00       200\n",
      " 직장 내 괴롭힘 대화       0.88      0.95      0.92       196\n",
      "       협박 대화       0.87      0.88      0.87       179\n",
      "\n",
      "    accuracy                           0.91       990\n",
      "   macro avg       0.91      0.91      0.91       990\n",
      "weighted avg       0.91      0.91      0.91       990\n",
      "\n"
     ]
    }
   ],
   "source": [
    "from sklearn.linear_model import LogisticRegression\n",
    "from sklearn.metrics import f1_score, classification_report\n",
    "\n",
    "# 모델 초기화 및 학습\n",
    "lr_model = LogisticRegression(random_state=42, max_iter=1000)\n",
    "lr_model.fit(X_train_tfidf, y_train)\n",
    "\n",
    "# 예측\n",
    "y_pred = lr_model.predict(X_val_tfidf)\n",
    "\n",
    "# 평가\n",
    "weighted_f1 = f1_score(y_val, y_pred, average='weighted')\n",
    "print(f'Weighted F1 Score: {weighted_f1:.4f}')\n",
    "\n",
    "# 클래스별 상세 리포트\n",
    "print(\"Classification Report:\")\n",
    "print(classification_report(y_val, y_pred, target_names=encoder.classes_))"
   ]
  }
 ],
 "metadata": {
  "kernelspec": {
   "display_name": "my-pytorch",
   "language": "python",
   "name": "python3"
  },
  "language_info": {
   "codemirror_mode": {
    "name": "ipython",
    "version": 3
   },
   "file_extension": ".py",
   "mimetype": "text/x-python",
   "name": "python",
   "nbconvert_exporter": "python",
   "pygments_lexer": "ipython3",
   "version": "3.12.11"
  }
 },
 "nbformat": 4,
 "nbformat_minor": 4
}
